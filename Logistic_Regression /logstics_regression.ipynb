{
 "cells": [
  {
   "cell_type": "markdown",
   "id": "ec95c000",
   "metadata": {},
   "source": [
    "### machine learning for credit scoring\n",
    "Banks play a crucial role in market economies. They decide who can get finance and on what terms and can make or break investment decisions. For markets and society to function, individuals and companies need access to credit.\n",
    "\n",
    "Credit scoring algorithms, which make a guess at the probability of default, are the method banks use to determine whether or not a loan should be granted. This competition requires participants to improve on the state of the art in credit scoring, by predicting the probability that somebody will experience financial distress in the next two years.\n",
    "#### [Dataset](https://www.kaggle.com/c/GiveMeSomeCredit)\n",
    "\n"
   ]
  },
  {
   "cell_type": "markdown",
   "id": "c00ce8eb",
   "metadata": {},
   "source": [
    "Attribute Information:"
   ]
  },
  {
   "cell_type": "markdown",
   "id": "d89bcfdf",
   "metadata": {},
   "source": [
    "|Variable Name\t| Description |\tType |\n",
    "|------|------|------|\n",
    "|SeriousDlqin2yrs |\tPerson experienced 90 days past due delinquency or worse | Y/N |\n",
    "|RevolvingUtilizationOfUnsecuredLines | Total balance on credit divided by the sum of credit limits\t| percentage |\n",
    "|age | Age of borrower in years | integer |\n",
    "|NumberOfTime30-59DaysPastDueNotWorse | Number of times borrower has been 30-59 days past due | integer |\n",
    "|DebtRatio | Monthly debt payments\t| percentage |\n",
    "|MonthlyIncome | Monthly income | real |\n",
    "|NumberOfOpenCreditLinesAndLoans | Number of Open loans | integer  |\n",
    "|NumberOfTimes90DaysLate | Number of times borrower has been 90 days or more past due | integer | \n",
    "|NumberRealEstateLoansOrLines |\tNumber of mortgage and real estate loans | integer |\n",
    "|NumberOfTime60-89DaysPastDueNotWorse |\tNumber of times borrower has been 60-89 days past due | integer |\n",
    "|NumberOfDependents\t| Number of dependents in family | integer |"
   ]
  },
  {
   "cell_type": "code",
   "execution_count": null,
   "id": "428ae2a8",
   "metadata": {},
   "outputs": [],
   "source": []
  },
  {
   "cell_type": "code",
   "execution_count": null,
   "id": "fa892414",
   "metadata": {},
   "outputs": [],
   "source": []
  },
  {
   "cell_type": "code",
   "execution_count": null,
   "id": "c4efe13d",
   "metadata": {},
   "outputs": [],
   "source": []
  }
 ],
 "metadata": {
  "kernelspec": {
   "display_name": "Python 3",
   "language": "python",
   "name": "python3"
  },
  "language_info": {
   "codemirror_mode": {
    "name": "ipython",
    "version": 3
   },
   "file_extension": ".py",
   "mimetype": "text/x-python",
   "name": "python",
   "nbconvert_exporter": "python",
   "pygments_lexer": "ipython3",
   "version": "3.8.8"
  }
 },
 "nbformat": 4,
 "nbformat_minor": 5
}
