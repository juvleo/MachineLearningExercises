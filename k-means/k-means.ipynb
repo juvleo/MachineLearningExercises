{
 "cells": [
  {
   "cell_type": "code",
   "execution_count": 2,
   "id": "a8eb9dea-56f0-4f6b-90d4-0fb6f9defe8d",
   "metadata": {},
   "outputs": [],
   "source": [
    "# refernece: https://medium.com/coders-camp/all-machine-learning-algorithms-models-explained-adcd95d5fb3c"
   ]
  },
  {
   "cell_type": "code",
   "execution_count": 3,
   "id": "c381871a-da1f-46cd-8a8b-ace6e080c010",
   "metadata": {},
   "outputs": [
    {
     "name": "stdout",
     "output_type": "stream",
     "text": [
      "Index(['longitude', 'latitude', 'housing_median_age', 'total_rooms',\n",
      "       'total_bedrooms', 'population', 'households', 'median_income',\n",
      "       'median_house_value', 'ocean_proximity'],\n",
      "      dtype='object')\n",
      "   median_income  latitude  longitude\n",
      "0         8.3252     37.88    -122.23\n",
      "1         8.3014     37.86    -122.22\n",
      "2         7.2574     37.85    -122.24\n",
      "3         5.6431     37.85    -122.25\n",
      "4         3.8462     37.85    -122.25\n"
     ]
    }
   ],
   "source": [
    "import pandas as pd\n",
    "import numpy as np\n",
    "import matplotlib.pyplot as plt\n",
    "import seaborn as sns\n",
    "sns.set()\n",
    "from sklearn.cluster import KMeans\n",
    "\n",
    "data = pd.read_csv(\"https://raw.githubusercontent.com/ageron/handson-ml/master/datasets/housing/housing.csv\")\n",
    "print(data.columns)\n",
    "data = data.loc[:, [\"median_income\", \"latitude\", \"longitude\"]]\n",
    "print(data.head())"
   ]
  },
  {
   "cell_type": "code",
   "execution_count": null,
   "id": "d7059448-0d2f-4eed-ace1-373055d6e9b9",
   "metadata": {},
   "outputs": [],
   "source": []
  },
  {
   "cell_type": "code",
   "execution_count": null,
   "id": "b978882a-2803-4e84-9c5a-145c86b357da",
   "metadata": {},
   "outputs": [],
   "source": []
  },
  {
   "cell_type": "code",
   "execution_count": null,
   "id": "cb5447cc-48ad-4d4d-84db-66791fd54d3a",
   "metadata": {},
   "outputs": [],
   "source": []
  }
 ],
 "metadata": {
  "kernelspec": {
   "display_name": "Python 3 (ipykernel)",
   "language": "python",
   "name": "python3"
  },
  "language_info": {
   "codemirror_mode": {
    "name": "ipython",
    "version": 3
   },
   "file_extension": ".py",
   "mimetype": "text/x-python",
   "name": "python",
   "nbconvert_exporter": "python",
   "pygments_lexer": "ipython3",
   "version": "3.9.12"
  }
 },
 "nbformat": 4,
 "nbformat_minor": 5
}
