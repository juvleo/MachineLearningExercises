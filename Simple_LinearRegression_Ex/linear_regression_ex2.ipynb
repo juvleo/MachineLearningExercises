{
 "cells": [
  {
   "cell_type": "code",
   "execution_count": 6,
   "id": "b1f39d53",
   "metadata": {},
   "outputs": [],
   "source": [
    "# 兼容 pythone2,3\n",
    "from __future__ import print_function\n",
    "\n",
    "# 导入相关python库\n",
    "import os\n",
    "import numpy as np\n",
    "import pandas as pd"
   ]
  },
  {
   "cell_type": "code",
   "execution_count": 7,
   "id": "53f08945",
   "metadata": {},
   "outputs": [],
   "source": [
    "#设定随机数种子\n",
    "np.random.seed(36)\n",
    "\n",
    "#使用matplotlib库画图\n",
    "import matplotlib\n",
    "import seaborn\n",
    "import matplotlib.pyplot as plot\n",
    "\n",
    "from sklearn import datasets"
   ]
  },
  {
   "cell_type": "code",
   "execution_count": 10,
   "id": "8ad2d703",
   "metadata": {},
   "outputs": [],
   "source": [
    "#读取数据\n",
    "housing = pd.read_csv('kc_train.csv')\n",
    "# target=pd.read_csv('kc_train2.csv')  #销售价格\n",
    "t=pd.read_csv('kc_test.csv')         #测试数据"
   ]
  },
  {
   "cell_type": "code",
   "execution_count": 11,
   "id": "336643d7",
   "metadata": {},
   "outputs": [
    {
     "name": "stdout",
     "output_type": "stream",
     "text": [
      "<class 'pandas.core.frame.DataFrame'>\n",
      "RangeIndex: 9999 entries, 0 to 9998\n",
      "Data columns (total 14 columns):\n",
      " #   Column    Non-Null Count  Dtype  \n",
      "---  ------    --------------  -----  \n",
      " 0   20150302  9999 non-null   int64  \n",
      " 1   545000    9999 non-null   int64  \n",
      " 2   3         9999 non-null   int64  \n",
      " 3   2.25      9999 non-null   float64\n",
      " 4   1670      9999 non-null   int64  \n",
      " 5   6240      9999 non-null   int64  \n",
      " 6   1         9999 non-null   float64\n",
      " 7   8         9999 non-null   int64  \n",
      " 8   1240      9999 non-null   int64  \n",
      " 9   430       9999 non-null   int64  \n",
      " 10  1974      9999 non-null   int64  \n",
      " 11  0         9999 non-null   int64  \n",
      " 12  47.6413   9999 non-null   float64\n",
      " 13  -122.113  9999 non-null   float64\n",
      "dtypes: float64(4), int64(10)\n",
      "memory usage: 1.1 MB\n"
     ]
    }
   ],
   "source": [
    "#数据预处理\n",
    "housing.info()    #查看是否有缺失值"
   ]
  },
  {
   "cell_type": "code",
   "execution_count": 12,
   "id": "426b1286",
   "metadata": {},
   "outputs": [],
   "source": [
    "#特征缩放\n",
    "from sklearn.preprocessing import MinMaxScaler\n",
    "minmax_scaler=MinMaxScaler()\n",
    "minmax_scaler.fit(housing)   #进行内部拟合，内部参数会发生变化\n",
    "scaler_housing=minmax_scaler.transform(housing)\n",
    "scaler_housing=pd.DataFrame(scaler_housing,columns=housing.columns)"
   ]
  },
  {
   "cell_type": "code",
   "execution_count": null,
   "id": "22edbd76",
   "metadata": {},
   "outputs": [],
   "source": []
  },
  {
   "cell_type": "code",
   "execution_count": null,
   "id": "4530cd0f",
   "metadata": {},
   "outputs": [],
   "source": []
  },
  {
   "cell_type": "code",
   "execution_count": null,
   "id": "d5f979c7",
   "metadata": {},
   "outputs": [],
   "source": []
  },
  {
   "cell_type": "code",
   "execution_count": null,
   "id": "42b6fd67",
   "metadata": {},
   "outputs": [],
   "source": []
  },
  {
   "cell_type": "code",
   "execution_count": null,
   "id": "fc98ccbb",
   "metadata": {},
   "outputs": [],
   "source": []
  }
 ],
 "metadata": {
  "kernelspec": {
   "display_name": "Python 3",
   "language": "python",
   "name": "python3"
  },
  "language_info": {
   "codemirror_mode": {
    "name": "ipython",
    "version": 3
   },
   "file_extension": ".py",
   "mimetype": "text/x-python",
   "name": "python",
   "nbconvert_exporter": "python",
   "pygments_lexer": "ipython3",
   "version": "3.8.8"
  }
 },
 "nbformat": 4,
 "nbformat_minor": 5
}
