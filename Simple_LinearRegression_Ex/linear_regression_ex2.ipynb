{
 "cells": [
  {
   "cell_type": "code",
   "execution_count": 1,
   "id": "bcffe2fc",
   "metadata": {},
   "outputs": [],
   "source": [
    "# 兼容 pythone2,3\n",
    "from __future__ import print_function\n",
    "\n",
    "# 导入相关python库\n",
    "import os\n",
    "import numpy as np\n",
    "import pandas as pd"
   ]
  },
  {
   "cell_type": "code",
   "execution_count": 2,
   "id": "ef955c8c",
   "metadata": {},
   "outputs": [],
   "source": [
    "#设定随机数种子\n",
    "np.random.seed(36)\n",
    "\n",
    "#使用matplotlib库画图\n",
    "import matplotlib\n",
    "import seaborn\n",
    "import matplotlib.pyplot as plot\n",
    "\n",
    "from sklearn import datasets"
   ]
  },
  {
   "cell_type": "code",
   "execution_count": null,
   "id": "ccb430bb",
   "metadata": {},
   "outputs": [],
   "source": []
  }
 ],
 "metadata": {
  "kernelspec": {
   "display_name": "Python 3",
   "language": "python",
   "name": "python3"
  },
  "language_info": {
   "codemirror_mode": {
    "name": "ipython",
    "version": 3
   },
   "file_extension": ".py",
   "mimetype": "text/x-python",
   "name": "python",
   "nbconvert_exporter": "python",
   "pygments_lexer": "ipython3",
   "version": "3.8.8"
  }
 },
 "nbformat": 4,
 "nbformat_minor": 5
}
