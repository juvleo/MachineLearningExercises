{
 "cells": [
  {
   "cell_type": "code",
   "execution_count": 22,
   "id": "79eceff6",
   "metadata": {},
   "outputs": [],
   "source": [
    "# 兼容 pythone2,3\n",
    "from __future__ import print_function\n",
    "\n",
    "# 导入相关python库\n",
    "import os\n",
    "import numpy as np\n",
    "import pandas as pd"
   ]
  },
  {
   "cell_type": "code",
   "execution_count": 23,
   "id": "012f9943",
   "metadata": {},
   "outputs": [],
   "source": [
    "#设定随机数种子\n",
    "np.random.seed(36)\n",
    "\n",
    "#使用matplotlib库画图\n",
    "import matplotlib\n",
    "import seaborn\n",
    "import matplotlib.pyplot as plot\n",
    "\n",
    "from sklearn import datasets"
   ]
  },
  {
   "cell_type": "code",
   "execution_count": 24,
   "id": "b255f260",
   "metadata": {},
   "outputs": [],
   "source": [
    "#读取数据\n",
    "housing = pd.read_csv('kc_train.csv')\n",
    "target=pd.read_csv('kc_train.csv')  #销售价格\n",
    "t=pd.read_csv('kc_test.csv')         #测试数据"
   ]
  },
  {
   "cell_type": "code",
   "execution_count": 25,
   "id": "e272f41a",
   "metadata": {},
   "outputs": [
    {
     "name": "stdout",
     "output_type": "stream",
     "text": [
      "<class 'pandas.core.frame.DataFrame'>\n",
      "RangeIndex: 9999 entries, 0 to 9998\n",
      "Data columns (total 14 columns):\n",
      " #   Column    Non-Null Count  Dtype  \n",
      "---  ------    --------------  -----  \n",
      " 0   20150302  9999 non-null   int64  \n",
      " 1   545000    9999 non-null   int64  \n",
      " 2   3         9999 non-null   int64  \n",
      " 3   2.25      9999 non-null   float64\n",
      " 4   1670      9999 non-null   int64  \n",
      " 5   6240      9999 non-null   int64  \n",
      " 6   1         9999 non-null   float64\n",
      " 7   8         9999 non-null   int64  \n",
      " 8   1240      9999 non-null   int64  \n",
      " 9   430       9999 non-null   int64  \n",
      " 10  1974      9999 non-null   int64  \n",
      " 11  0         9999 non-null   int64  \n",
      " 12  47.6413   9999 non-null   float64\n",
      " 13  -122.113  9999 non-null   float64\n",
      "dtypes: float64(4), int64(10)\n",
      "memory usage: 1.1 MB\n"
     ]
    }
   ],
   "source": [
    "#数据预处理\n",
    "housing.info()    #查看是否有缺失值"
   ]
  },
  {
   "cell_type": "code",
   "execution_count": 26,
   "id": "bb22fe60",
   "metadata": {},
   "outputs": [],
   "source": [
    "#特征缩放\n",
    "from sklearn.preprocessing import MinMaxScaler\n",
    "minmax_scaler=MinMaxScaler()\n",
    "minmax_scaler.fit(housing)   #进行内部拟合，内部参数会发生变化\n",
    "scaler_housing=minmax_scaler.transform(housing)\n",
    "scaler_housing=pd.DataFrame(scaler_housing,columns=housing.columns)"
   ]
  },
  {
   "cell_type": "code",
   "execution_count": 27,
   "id": "03334f61",
   "metadata": {},
   "outputs": [],
   "source": [
    "mm=MinMaxScaler()\n",
    "mm.fit(t)\n",
    "scaler_t=mm.transform(t)\n",
    "scaler_t=pd.DataFrame(scaler_t,columns=t.columns)"
   ]
  },
  {
   "cell_type": "code",
   "execution_count": 28,
   "id": "dfb4c9e5",
   "metadata": {},
   "outputs": [
    {
     "data": {
      "text/plain": [
       "LinearRegression()"
      ]
     },
     "execution_count": 28,
     "metadata": {},
     "output_type": "execute_result"
    }
   ],
   "source": [
    "#选择基于梯度下降的线性回归模型\n",
    "from sklearn.linear_model import LinearRegression\n",
    "LR_reg=LinearRegression()\n",
    "#进行拟合\n",
    "LR_reg.fit(scaler_housing,target)"
   ]
  },
  {
   "cell_type": "code",
   "execution_count": null,
   "id": "417e12c2",
   "metadata": {},
   "outputs": [],
   "source": []
  },
  {
   "cell_type": "code",
   "execution_count": null,
   "id": "637654fe",
   "metadata": {},
   "outputs": [],
   "source": []
  },
  {
   "cell_type": "code",
   "execution_count": null,
   "id": "884674a1",
   "metadata": {},
   "outputs": [],
   "source": []
  }
 ],
 "metadata": {
  "kernelspec": {
   "display_name": "Python 3",
   "language": "python",
   "name": "python3"
  },
  "language_info": {
   "codemirror_mode": {
    "name": "ipython",
    "version": 3
   },
   "file_extension": ".py",
   "mimetype": "text/x-python",
   "name": "python",
   "nbconvert_exporter": "python",
   "pygments_lexer": "ipython3",
   "version": "3.8.8"
  }
 },
 "nbformat": 4,
 "nbformat_minor": 5
}
