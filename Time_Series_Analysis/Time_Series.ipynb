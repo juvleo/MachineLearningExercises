{
 "cells": [
  {
   "cell_type": "code",
   "execution_count": 1,
   "id": "aec864d3-9d6f-4fb0-966d-12b7de5d3896",
   "metadata": {},
   "outputs": [],
   "source": [
    "# https://thecleverprogrammer.com/2022/01/08/best-approaches-for-time-series-analysis/"
   ]
  },
  {
   "cell_type": "code",
   "execution_count": 2,
   "id": "4cd6c962-6ba6-4ae3-ab17-bd08c40aca77",
   "metadata": {},
   "outputs": [],
   "source": [
    "# ARIMA \n",
    "import numpy as np\n",
    "import pandas as pd\n",
    "\n",
    "import matplotlib.pyplot as plt\n",
    "%matplotlib inline"
   ]
  },
  {
   "cell_type": "code",
   "execution_count": 4,
   "id": "fcd7c346-7375-4a68-b3e7-18788603ac6d",
   "metadata": {},
   "outputs": [],
   "source": [
    "df=pd.read_csv('https://raw.githubusercontent.com/krishnaik06/ARIMA-And-Seasonal-ARIMA/master/perrin-freres-monthly-champagne-.csv')"
   ]
  },
  {
   "cell_type": "code",
   "execution_count": null,
   "id": "2a1c02c2-a07f-4e46-927a-5ef724cf9233",
   "metadata": {},
   "outputs": [],
   "source": [
    "df.head()"
   ]
  },
  {
   "cell_type": "code",
   "execution_count": null,
   "id": "1b174d93-b4ef-42fc-b1a7-fa8b0490d78f",
   "metadata": {},
   "outputs": [],
   "source": []
  }
 ],
 "metadata": {
  "kernelspec": {
   "display_name": "Python 3 (ipykernel)",
   "language": "python",
   "name": "python3"
  },
  "language_info": {
   "codemirror_mode": {
    "name": "ipython",
    "version": 3
   },
   "file_extension": ".py",
   "mimetype": "text/x-python",
   "name": "python",
   "nbconvert_exporter": "python",
   "pygments_lexer": "ipython3",
   "version": "3.9.12"
  }
 },
 "nbformat": 4,
 "nbformat_minor": 5
}
